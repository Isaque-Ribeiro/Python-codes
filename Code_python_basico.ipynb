{
  "nbformat": 4,
  "nbformat_minor": 0,
  "metadata": {
    "colab": {
      "provenance": [],
      "authorship_tag": "ABX9TyMPvsrBRRyKcGNl6RxppfTx",
      "include_colab_link": true
    },
    "kernelspec": {
      "name": "python3",
      "display_name": "Python 3"
    },
    "language_info": {
      "name": "python"
    }
  },
  "cells": [
    {
      "cell_type": "markdown",
      "metadata": {
        "id": "view-in-github",
        "colab_type": "text"
      },
      "source": [
        "<a href=\"https://colab.research.google.com/github/Isaque-Ribeiro/Python-codes/blob/main/Code_python_basico.ipynb\" target=\"_parent\"><img src=\"https://colab.research.google.com/assets/colab-badge.svg\" alt=\"Open In Colab\"/></a>"
      ]
    },
    {
      "cell_type": "code",
      "execution_count": null,
      "metadata": {
        "colab": {
          "base_uri": "https://localhost:8080/"
        },
        "id": "WHiiao4NLPM3",
        "outputId": "509186bc-f931-441b-e423-47cdae898038"
      },
      "outputs": [
        {
          "output_type": "stream",
          "name": "stdout",
          "text": [
            "848.280.097-85\n"
          ]
        }
      ],
      "source": [
        "# CODIGO GERA CPF\n",
        "\n",
        "import random as r\n",
        "\n",
        "cpf = []\n",
        "str = \"\"\n",
        "\n",
        "for i in range(9):\n",
        "  cpf.append(r.randint(0,9))\n",
        "\n",
        "L = 0\n",
        "for i in range(9):\n",
        "  L = (10-i)*cpf[i]\n",
        "\n",
        "rd10 = L%11\n",
        "\n",
        "if (rd10 == 0 or r == 1):\n",
        "  cpf.append(0)\n",
        "else:\n",
        "  cpf.append(11-rd10)\n",
        "\n",
        "M = 0\n",
        "for i in range(9):\n",
        "  M = (10-1)*cpf[i+1]\n",
        "\n",
        "rd11 = M%11\n",
        "\n",
        "if(rd11 == 0 or rd11 == 1):\n",
        "  cpf.append(0)\n",
        "else:\n",
        "  cpf.append(11-rd11)\n",
        "\n",
        "j=1\n",
        "for i in range(9):\n",
        "  if i == 3 or i == 6:\n",
        "    print ('.', end=\"\")\n",
        "  print(cpf[i], end=\"\")\n",
        "print (f'-{cpf[9]}{cpf[10]}')"
      ]
    },
    {
      "cell_type": "code",
      "source": [
        "# CRIPTOGRAFIA CESAR CYPHER\n",
        "\n",
        "import random as r\n",
        "\n",
        "text = input(\"Text to be encrypted: \")\n",
        "crip = list(text.lower())\n",
        "\n",
        "k = r.randint(1,25)\n",
        "\n",
        "for i in range(len(crip)):\n",
        "    if (ord(crip[i])+k > 122):\n",
        "      crip[i] = chr(ord(crip[i])- 26 + k)\n",
        "    if(crip[i] == ''):\n",
        "      crip[i] = ''\n",
        "    if((ord(crip[i]) + k > 96) and (ord(crip[i]) + k < 123)):\n",
        "        crip[i] = chr(ord(crip[i]) + k)\n",
        "\n",
        "for i in crip:\n",
        "  print (i , end='')"
      ],
      "metadata": {
        "colab": {
          "base_uri": "https://localhost:8080/"
        },
        "id": "eofmKjdBMhF5",
        "outputId": "51117e30-ca11-4836-c761-51c8fc560a80"
      },
      "execution_count": null,
      "outputs": [
        {
          "output_type": "stream",
          "name": "stdout",
          "text": [
            "Text to be encrypted: Fellipe meu parceiro, Fellipe meu colega, vou fazer com Fellipe o que o cavalo fez com a égua\n",
            "jippmti qiy tevgimvs, jippmti qiy gspike, zsy jehiv gsq jippmti s uyi s gezeps jih gsq e Ókye"
          ]
        }
      ]
    },
    {
      "cell_type": "code",
      "source": [
        "a = {}\n",
        "a['nome'] = []\n",
        "a['nome'].append('Isaque')\n",
        "a['nome'].append('Ana')\n",
        "a['nome'].append('Amores de uma vida')\n",
        "a['Idade'] = []\n",
        "a['Idade'].append(19)\n",
        "a['Idade'].append(20)\n",
        "a['Idade'].append('6 meses')\n",
        "\n",
        "print(a)"
      ],
      "metadata": {
        "colab": {
          "base_uri": "https://localhost:8080/"
        },
        "id": "U2j_iXQ-B4fp",
        "outputId": "036cb5a6-3855-405d-a9dd-a6afceb575ba"
      },
      "execution_count": null,
      "outputs": [
        {
          "output_type": "stream",
          "name": "stdout",
          "text": [
            "{'nome': ['Isaque', 'Ana', 'Amores de uma vida'], 'Idade': [19, 20, '2 meses']}\n"
          ]
        }
      ]
    },
    {
      "cell_type": "code",
      "source": [
        "# Q1\n",
        "arquivo = open('Corona_genomic.txt', 'r')\n",
        "FastaDict = {}\n",
        "i = 0\n",
        "j = 0\n",
        "leitura = arquivo.readlines()\n",
        "FastaDict['Seq_DNA'] = []\n",
        "len(leitura)\n",
        "while i < len(leitura):\n",
        "  if(leitura[i][j] == '>'):\n",
        "    FastaDict['descrição'] =  leitura[i]\n",
        "  else:\n",
        "    FastaDict['Seq_DNA'].append(leitura[i])\n",
        "  i += 1\n",
        "FastaDict['Seq_DNA'] = ''.join(FastaDict['Seq_DNA'])\n",
        "print(FastaDict)\n",
        "\n",
        "\n",
        "# Q2\n",
        "def complementar(**dicio):\n",
        "  lista = []\n",
        "  for i in dicio.values():\n",
        "    if(i == 'A'):\n",
        "      lista.append('T')\n",
        "    elif(i == 'C'):\n",
        "      lista.append('G')\n",
        "    elif(i == 'T'):\n",
        "     lista.append('A')\n",
        "    elif(i == 'G'):\n",
        "      lista.append('C')\n",
        "  return lista\n",
        "FastaDict['complementar'] = complementar(FastaDict)\n",
        "print(FastaDict['complementar'])\n",
        "\n",
        "\n",
        "#Q3\n",
        "def trancricao(**dicio):\n",
        "  lista = []\n",
        "  for i in range(0, len(dicio.value(1))):\n",
        "    if(dicio.value(1)[i] == 'A'):\n",
        "      lista.append('U')\n",
        "    elif(dicio.value(1)[i] == 'C'):\n",
        "      lista.append('G')\n",
        "    elif(dicio.value(1)[i] == 'T'):\n",
        "      lista.append('A')\n",
        "    elif(dicio.value(1)[i] == 'G'):\n",
        "      lista.append('C')\n",
        "  dicio['transcrição'] = ''\n",
        "  dicio['transcrição'] = ''.join(lista)\n",
        "  return dicio\n",
        "FastaDict = trancricao(FastaDict)\n",
        "\n",
        "\n",
        "#Q4\n",
        "def freq(**dicio):\n",
        "  freq = {}\n",
        "  aminoacidos = dicio.values()\n",
        "  for i in aminoacidos[1]:\n",
        "    freq[i] = dicio.values(1).count(i)\n",
        "  dicio['Fa'] = freq.keys(a)\n",
        "  dicio['Ft'] = freq.keys(t)\n",
        "  dicio['Fc'] = freq.keys(c)\n",
        "  dicio['Fg'] = freq.keys(g)"
      ],
      "metadata": {
        "id": "NPLFkla8uaEN",
        "colab": {
          "base_uri": "https://localhost:8080/",
          "height": 256
        },
        "outputId": "b6893905-d235-4100-89c4-d8379e4e785b"
      },
      "execution_count": null,
      "outputs": [
        {
          "output_type": "error",
          "ename": "FileNotFoundError",
          "evalue": "ignored",
          "traceback": [
            "\u001b[0;31m---------------------------------------------------------------------------\u001b[0m",
            "\u001b[0;31mFileNotFoundError\u001b[0m                         Traceback (most recent call last)",
            "\u001b[0;32m<ipython-input-1-112619a38a8c>\u001b[0m in \u001b[0;36m<cell line: 2>\u001b[0;34m()\u001b[0m\n\u001b[1;32m      1\u001b[0m \u001b[0;31m# Q1\u001b[0m\u001b[0;34m\u001b[0m\u001b[0;34m\u001b[0m\u001b[0m\n\u001b[0;32m----> 2\u001b[0;31m \u001b[0marquivo\u001b[0m \u001b[0;34m=\u001b[0m \u001b[0mopen\u001b[0m\u001b[0;34m(\u001b[0m\u001b[0;34m'Corona_genomic.txt'\u001b[0m\u001b[0;34m,\u001b[0m \u001b[0;34m'r'\u001b[0m\u001b[0;34m)\u001b[0m\u001b[0;34m\u001b[0m\u001b[0;34m\u001b[0m\u001b[0m\n\u001b[0m\u001b[1;32m      3\u001b[0m \u001b[0mFastaDict\u001b[0m \u001b[0;34m=\u001b[0m \u001b[0;34m{\u001b[0m\u001b[0;34m}\u001b[0m\u001b[0;34m\u001b[0m\u001b[0;34m\u001b[0m\u001b[0m\n\u001b[1;32m      4\u001b[0m \u001b[0mi\u001b[0m \u001b[0;34m=\u001b[0m \u001b[0;36m0\u001b[0m\u001b[0;34m\u001b[0m\u001b[0;34m\u001b[0m\u001b[0m\n\u001b[1;32m      5\u001b[0m \u001b[0mj\u001b[0m \u001b[0;34m=\u001b[0m \u001b[0;36m0\u001b[0m\u001b[0;34m\u001b[0m\u001b[0;34m\u001b[0m\u001b[0m\n",
            "\u001b[0;31mFileNotFoundError\u001b[0m: [Errno 2] No such file or directory: 'Corona_genomic.txt'"
          ]
        }
      ]
    }
  ]
}